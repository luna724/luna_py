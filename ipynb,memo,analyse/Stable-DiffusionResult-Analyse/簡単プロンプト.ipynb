{
 "cells": [
  {
   "cell_type": "markdown",
   "metadata": {},
   "source": [
    "### 基礎プロンプト、Negative\n",
    "\n",
    "# Prompt\n",
    "(best quality)++, (masterpiece)++, detailed, incredibly fine illustration, (kawaii:1.1), 14 years old:0.9, baby face:0.7, straight hair, small breasts, (ichika:1.2), 1girl:1.1, 2dimensional-charactor:1.1, <lora:ichika3:1>\n",
    "\n",
    "# Prompt (ADetailer face_yolov8n)\n",
    "(best quality)++, (masterpiece)++, (kawaii:1.1), cute, baby face:0.6, Consistent and proportionate facial features, High-Quality facial textures\n",
    "\n",
    "\n",
    "# Negative (without / EasyNegative (For Anything, nsfw))\n",
    "badhandv4, (bad anatomy:1.4), (realistic:1.1), (low quality, worst quality:1.1), Warped, Incomplete, Noise, lips, fat, sad, Low resolution, (inaccurate limb:1.2), six or more fingers, Obscurity, Blurring, Image distortion, Image blurring, JPEG artifacts, Missing areas, Unnatural proportions, Textural clutter, Occlusion, Out of proportion, Unnatural coloration, Lack of detail, Odd posess, Botched facial expressions, Eyes and mouth in the wrong position, Messy hair depiction:1.15, Out of proportion, Unnatural handling of shadows and light, Poor quality line art, Coarse drawing touches, More than two legs or arms, Text, character assimilated into background, no human, shading off, fused fingers, (see through:1.5), more than five fingers, particle\n",
    "\n",
    "# Negative (ADetailer face_yolov8n)\n",
    "(bad anatomy:1.4), (distorted features:1.1), (realistic:1.1), (low quality, worst quality:1.1), lips, unclear face, Distorted facial features, Jagged lines in faces\n",
    "- 必要な場合、最初に (EasyNegative:0.5) を記入\n",
    "\n",
    "# Negative (with / EasyNegative (For Counterfeit))\n",
    "(EasyNegative), badhandv4, (bad anatomy:1.4), (realistic:1.1), (low quality, worst quality:1.1), lips, fat, sad, (inaccurate limb:1.2), (Low resolution:1.1), Tint shift, Image blurring, JPEG artifacts, Hidden elements, Missing areas, Unnatural proportions, Botched facial expressions, Messy hair depiction:1.15, Coarse drawing touches, Text, character assimilated into background, no human, shading off, unclear face, Blurry faces, Misaligned facial proportions, fused fingers, particle"
   ]
  }
 ],
 "metadata": {
  "language_info": {
   "name": "python"
  },
  "orig_nbformat": 4
 },
 "nbformat": 4,
 "nbformat_minor": 2
}
