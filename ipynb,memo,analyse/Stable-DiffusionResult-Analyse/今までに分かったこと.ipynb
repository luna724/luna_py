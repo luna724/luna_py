{
 "cells": [
  {
   "cell_type": "markdown",
   "metadata": {},
   "source": [
    "# i. 強調表現について\n",
    "    # 1.  (Example Prompt.:<強調倍数>)と指定\n",
    "    # 2.  強調倍数が1.5 < x の値を持つ場合、基本的に崩壊する\n",
    "    # 3.  ((Example Prompt.))のように指定もできる\n",
    "\n",
    "# i. Hires.fix\n",
    "    # 1. Hires.fixは画像の質を高めるものだが、今のところ崩壊することが確認されている (luna_ichika.safetensors)\n",
    "    # 2. Hires.fixをTesla T4で使うと基本的に CUDA out of Memory が発生する\n",
    "\n",
    "# i. Sampling Method\n",
    "    # 1. Sampling Methodはluna_ichika.safetensorsの場合\n",
    "         DPM++ 2M SDE Karrasが安定する\n",
    "    # 2. DPM++ SDE Karrasを使用すると生成時間がとても上がるくせに、崩壊する\n",
    "\n",
    "# i.Seed\n",
    "    # 1. 経験上5桁以上はあまりいい結果にならない\n",
    "    # 2. luna_ichika.safetensorsの場合 \"85\"(txt2img)がかなりいい結果が出せる\n",
    "\n",
    "# i. Restore Faces\n",
    "    # 1. txt2imgでは必須といっていい項目\n",
    "    # 2. img2imgでは場合によっては悪い結果になる\n",
    "\n",
    "# i. Tilling\n",
    "    # 1. 崩壊しかしないゴミ項目"
   ]
  },
  {
   "cell_type": "markdown",
   "metadata": {},
   "source": []
  }
 ],
 "metadata": {
  "language_info": {
   "name": "python"
  },
  "orig_nbformat": 4
 },
 "nbformat": 4,
 "nbformat_minor": 2
}
