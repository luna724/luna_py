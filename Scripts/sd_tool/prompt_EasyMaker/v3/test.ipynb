{
 "cells": [
  {
   "cell_type": "code",
   "execution_count": 5,
   "metadata": {},
   "outputs": [
    {
     "name": "stderr",
     "output_type": "stream",
     "text": [
      "c:\\Users\\luna_\\Desktop\\Invisible Files\\luna_py\\luna_py\\.venv\\lib\\site-packages\\gradio\\blocks.py:698: UserWarning: Theme should be a class loaded from gradio.themes\n",
      "  warnings.warn(\"Theme should be a class loaded from gradio.themes\")\n"
     ]
    },
    {
     "name": "stdout",
     "output_type": "stream",
     "text": [
      "Running on local URL:  http://127.0.0.1:7877\n",
      "\n",
      "To create a public link, set `share=True` in `launch()`.\n"
     ]
    },
    {
     "data": {
      "text/html": [
       "<div><iframe src=\"http://127.0.0.1:7877/\" width=\"100%\" height=\"500\" allow=\"autoplay; camera; microphone; clipboard-read; clipboard-write;\" frameborder=\"0\" allowfullscreen></iframe></div>"
      ],
      "text/plain": [
       "<IPython.core.display.HTML object>"
      ]
     },
     "metadata": {},
     "output_type": "display_data"
    },
    {
     "data": {
      "text/plain": []
     },
     "execution_count": 5,
     "metadata": {},
     "output_type": "execute_result"
    }
   ],
   "source": [
    "import gradio as gr\n",
    "\n",
    "# タブのデータ\n",
    "slider = gr.Slider(0, 100)\n",
    "tabs_data = [\n",
    "    {\"tab_title\": \"タブ1\", \"ui_element\": lambda: gr.Blocks(gr.Button(\"ボタン1\"))},\n",
    "    {\"tab_title\": \"タブ2\", \"ui_element\": lambda: gr.Blocks(slider)},\n",
    "    {\"tab_title\": \"タブ3\", \"ui_element\": lambda: gr.Text(\"テキスト\")},\n",
    "]\n",
    "\n",
    "# UI を作成\n",
    "block = gr.Blocks(title=\"テスト UI\")\n",
    "\n",
    "with block:\n",
    "    with gr.Tabs():\n",
    "        for data in tabs_data:\n",
    "            with gr.Tab(data[\"tab_title\"]):\n",
    "                data[\"ui_element\"]()\n",
    "\n",
    "# UI を実行\n",
    "block.launch()\n"
   ]
  }
 ],
 "metadata": {
  "kernelspec": {
   "display_name": ".venv",
   "language": "python",
   "name": "python3"
  },
  "language_info": {
   "codemirror_mode": {
    "name": "ipython",
    "version": 3
   },
   "file_extension": ".py",
   "mimetype": "text/x-python",
   "name": "python",
   "nbconvert_exporter": "python",
   "pygments_lexer": "ipython3",
   "version": "3.10.9"
  }
 },
 "nbformat": 4,
 "nbformat_minor": 2
}
