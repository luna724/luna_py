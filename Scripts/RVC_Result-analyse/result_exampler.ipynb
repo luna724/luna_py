{
 "cells": [
  {
   "attachments": {},
   "cell_type": "markdown",
   "metadata": {},
   "source": [
    "# ピッチ数との関連性\n",
    "    変域は 2.5 ~ 3, 4\n",
    "    artifactの変域は 0.40  ~ 0.50\n",
    "    それ以外の値は変更しないとする\n",
    "# 設定エン\n",
    "    リサンプリングレート: 0  |  ピッチ抽出アルゴリズム: crepe\n",
    "    入力エンべロープ  |  検索特徴率: 1  |  入力: 志歩_464.mp3\n",
    "    出力: wav\n",
    "# 入力方式\n",
    "    上: ピッチ数  /  左: artifactの値\n",
    "-----\n",
    "| art / pitch | 2.5 | 2.6 | 2.7 | 2.8 | 2.9 | 3.0 | 3.5 | 4.0 |\n",
    "|---|---|---|---|---|---|---|---|---|\n",
    "| 0.40 | [0.4-2.5](./result_exampler/sound/0.4-2.5.wav) | [0.4-2.6](./result_exampler/sound/0.4-2.6.wav) | [0.4-2.7](./result_exampler/sound/0.4-2.7.wav) | [0.4-2.8](./result_exampler/sound/0.4-2.8.wav) | [0.4-2.9](./result_exampler/sound/0.4-2.9.wav) | [0.4-3.0](./result_exampler/sound/0.4-3.0.wav) | [0.4-3.5](./result_exampler/sound/0.4-3.5.wav) | [0.4-4.0](./result_exampler/sound/0.4-4.0.wav) |\n",
    "| 0.41 | [0.41-2.5](./result_exampler/sound/0.41-2.5.wav) | [0.41-2.6](./result_exampler/sound/0.41-2.6.wav) | [0.41-2.7](./result_exampler/sound/0.41-2.7.wav) | [0.41-2.8](./result_exampler/sound/0.41-2.8.wav) | [0.41-2.9](./result_exampler/sound/0.41-2.9.wav) | [0.41-3.0](./result_exampler/sound/0.41-3.0.wav) | [0.4-3.5](./result_exampler/sound/0.4-3.5.wav) | [0.41-4.0](./result_exampler/sound/0.41-4.0.wav) |\n",
    "| 0.42 | [0.42-2.5](./result_exampler/sound/0.42-2.5.wav) | [0.42-2.6](./result_exampler/sound/0.42-2.6.wav) | [0.42-2.7](./result_exampler/sound/0.42-2.7.wav) | [0.42-2.8](./result_exampler/sound/0.42-2.8.wav) | [0.42-2.9](./result_exampler/sound/0.42-2.9.wav) | [0.42-3.0](./result_exampler/sound/0.42-3.0.wav) |[0.42-3.5](./result_exampler/sound/0.42-3.5.wav) | [0.42-4.0](./result_exampler/sound/0.42-4.0.wav) |\n",
    "| 0.43 | [0.43-2.5](./result_exampler/sound/0.43-2.5.wav) | [0.43-2.6](./result_exampler/sound/0.43-2.6.wav) | [0.43-2.7](./result_exampler/sound/0.43-2.7.wav) | [0.43-2.8](./result_exampler/sound/0.43-2.8.wav) | [0.43-2.9](./result_exampler/sound/0.43-2.9.wav) | [0.43-3.0](./result_exampler/sound/0.43-3.0.wav) | [0.43-3.5](./result_exampler/sound/0.43-3.5.wav) | [0.43-4.0](./result_exampler/sound/0.43-4.0.wav) |\n",
    "| 0.44 | [0.44-2.5](./result_exampler/sound/0.44-2.5.wav) | [0.44-2.6](./result_exampler/sound/0.44-2.6.wav) | [0.44-2.7](./result_exampler/sound/0.44-2.7.wav) | [0.44-2.8](./result_exampler/sound/0.44-2.8.wav) | [0.44-2.9](./result_exampler/sound/0.44-2.9.wav) | [0.44-3.0](./result_exampler/sound/0.44-3.0.wav) | [0.44-3.5](./result_exampler/sound/0.44-3.5.wav) | [0.44-4.0](./result_exampler/sound/0.44-4.0.wav) |\n",
    "| 0.45 | [0.45-2.5](./result_exampler/sound/0.45-2.5.wav) | [0.45-2.6](./result_exampler/sound/0.45-2.6.wav) | [0.45-2.7](./result_exampler/sound/0.45-2.7.wav) | [0.45-2.8](./result_exampler/sound/0.45-2.8.wav) | [0.45-2.9](./result_exampler/sound/0.45-2.9.wav) | [0.45-3.0](./result_exampler/sound/0.45-3.0.wav) | [0.45-3.5](./result_exampler/sound/0.45-3.5.wav) | [0.45-4.0](./result_exampler/sound/0.45-4.0.wav) |\n",
    "| 0.46 | [0.46-2.5](./result_exampler/sound/0.46-2.5.wav) | [0.46-2.6](./result_exampler/sound/0.46-2.6.wav) | [0.46-2.7](./result_exampler/sound/0.46-2.7.wav) | [0.46-2.8](./result_exampler/sound/0.46-2.8.wav) | [0.46-2.9](./result_exampler/sound/0.46-2.9.wav) | [0.46-3.0](./result_exampler/sound/0.46-3.0.wav) | [0.46-3.5](./result_exampler/sound/0.46-3.5.wav) | [0.46-4.0](./result_exampler/sound/0.46-4.0.wav) |\n",
    "| 0.47 | [0.47-2.5](./result_exampler/sound/0.47-2.5.wav) | [0.47-2.6](./result_exampler/sound/0.47-2.6.wav) | [0.47-2.7](./result_exampler/sound/0.47-2.7.wav) | [0.47-2.8](./result_exampler/sound/0.47-2.8.wav) | [0.47-2.9](./result_exampler/sound/0.47-2.9.wav) | [0.47-3.0](./result_exampler/sound/0.47-3.0.wav) | [0.47-3.5](./result_exampler/sound/0.47-3.5.wav) | [0.47-4.0](./result_exampler/sound/0.47-4.0.wav) |\n",
    "| 0.48 | [0.48-2.5](./result_exampler/sound/0.48-2.5.wav) | [0.48-2.6](./result_exampler/sound/0.48-2.6.wav) | [0.48-2.7](./result_exampler/sound/0.48-2.7.wav) | [0.48-2.8](./result_exampler/sound/0.48-2.8.wav) | [0.48-2.9](./result_exampler/sound/0.48-2.9.wav) | [0.48-3.0](./result_exampler/sound/0.48-3.0.wav) | [0.48-3.5](./result_exampler/sound/0.48-3.5.wav) | [0.48-4.0](./result_exampler/sound/0.48-4.0.wav) |\n",
    "| 0.49 | [0.49-2.5](./result_exampler/sound/0.49-2.5.wav) | [0.49-2.6](./result_exampler/sound/0.49-2.6.wav) | [0.49-2.7](./result_exampler/sound/0.49-2.7.wav) | [0.49-2.8](./result_exampler/sound/0.49-2.8.wav) | [0.49-2.9](./result_exampler/sound/0.49-2.9.wav) | [0.49-3.0](./result_exampler/sound/0.49-3.0.wav) | [0.49-3.5](./result_exampler/sound/0.49-3.5.wav) | [0.49-4.0](./result_exampler/sound/0.49-4.0.wav) |\n",
    "| 0.50 | [0.50-2.5](./result_exampler/sound/0.50-2.5.wav) | [0.50-2.6](./result_exampler/sound/0.50-2.6.wav) | [0.50-2.7](./result_exampler/sound/0.50-2.7.wav) | [0.50-2.8](./result_exampler/sound/0.50-2.8.wav) | [0.50-2.9](./result_exampler/sound/0.50-2.9.wav) | [0.50-3.0](./result_exampler/sound/0.50-3.0.wav) | [0.50-3.5](./result_exampler/sound/0.50-3.5.wav) | [0.50-4.0](./result_exampler/sound/0.50-4.0.wav) |"
   ]
  },
  {
   "cell_type": "markdown",
   "metadata": {},
   "source": []
  },
  {
   "cell_type": "code",
   "execution_count": 15,
   "metadata": {},
   "outputs": [
    {
     "name": "stdout",
     "output_type": "stream",
     "text": [
      "[0.50-2.5](./result_exampler/sound/0.50-2.5.wav) | [0.50-2.6](./result_exampler/sound/0.50-2.6.wav) | [0.50-2.7](./result_exampler/sound/0.50-2.7.wav) | [0.50-2.8](./result_exampler/sound/0.50-2.8.wav) | [0.50-2.9](./result_exampler/sound/0.50-2.9.wav) | [0.50-3.0](./result_exampler/sound/0.50-3.0.wav) | [0.50-3.5](./result_exampler/sound/0.50-3.5.wav) | [0.50-4.0](./result_exampler/sound/0.50-4.0.wav) |\n"
     ]
    }
   ],
   "source": [
    "# Quick Generate\n",
    "cn = input(\"CN: \")\n",
    "\n",
    "\n",
    "filename = f\"[{cn}-2.5](./result_exampler/sound/{cn}-2.5.wav) | [{cn}-2.6](./result_exampler/sound/{cn}-2.6.wav) | [{cn}-2.7](./result_exampler/sound/{cn}-2.7.wav) | [{cn}-2.8](./result_exampler/sound/{cn}-2.8.wav) | [{cn}-2.9](./result_exampler/sound/{cn}-2.9.wav) | [{cn}-3.0](./result_exampler/sound/{cn}-3.0.wav) | [{cn}-3.5](./result_exampler/sound/{cn}-3.5.wav) | [{cn}-4.0](./result_exampler/sound/{cn}-4.0.wav) |\"\n",
    "print(filename)"
   ]
  }
 ],
 "metadata": {
  "kernelspec": {
   "display_name": "Python 3",
   "language": "python",
   "name": "python3"
  },
  "language_info": {
   "codemirror_mode": {
    "name": "ipython",
    "version": 3
   },
   "file_extension": ".py",
   "mimetype": "text/x-python",
   "name": "python",
   "nbconvert_exporter": "python",
   "pygments_lexer": "ipython3",
   "version": "3.10.7"
  },
  "orig_nbformat": 4
 },
 "nbformat": 4,
 "nbformat_minor": 2
}
