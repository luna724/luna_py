{
 "cells": [
  {
   "cell_type": "code",
   "execution_count": 9,
   "metadata": {},
   "outputs": [
    {
     "name": "stderr",
     "output_type": "stream",
     "text": [
      "E:\\System\\ichika\\AppData\\Local\\Temp\\ipykernel_3120\\3750617285.py:10: GradioUnusedKwargWarning: You have unused kwarg parameters in Box, please remove them: {'children': textbox}\n",
      "  input_box = gr.Box(children=input_text)\n"
     ]
    },
    {
     "ename": "AssertionError",
     "evalue": "",
     "output_type": "error",
     "traceback": [
      "\u001b[1;31m---------------------------------------------------------------------------\u001b[0m",
      "\u001b[1;31mAssertionError\u001b[0m                            Traceback (most recent call last)",
      "Cell \u001b[1;32mIn[9], line 13\u001b[0m\n\u001b[0;32m     10\u001b[0m input_box \u001b[39m=\u001b[39m gr\u001b[39m.\u001b[39mBox(children\u001b[39m=\u001b[39minput_text)\n\u001b[0;32m     12\u001b[0m \u001b[39m# インタフェースの作成\u001b[39;00m\n\u001b[1;32m---> 13\u001b[0m interface \u001b[39m=\u001b[39m gr\u001b[39m.\u001b[39;49mInterface(nonesss, inputs\u001b[39m=\u001b[39;49minput_box, outputs\u001b[39m=\u001b[39;49m\u001b[39m\"\u001b[39;49m\u001b[39mtext\u001b[39;49m\u001b[39m\"\u001b[39;49m)\n\u001b[0;32m     15\u001b[0m \u001b[39m# インタフェースを起動\u001b[39;00m\n\u001b[0;32m     16\u001b[0m interface\u001b[39m.\u001b[39mlaunch()\n",
      "File \u001b[1;32me:\\Program\\luna_py\\.venv\\lib\\site-packages\\gradio\\interface.py:202\u001b[0m, in \u001b[0;36mInterface.__init__\u001b[1;34m(self, fn, inputs, outputs, examples, cache_examples, examples_per_page, live, interpretation, num_shap, title, description, article, thumbnail, theme, css, allow_flagging, flagging_options, flagging_dir, flagging_callback, analytics_enabled, batch, max_batch_size, _api_mode, allow_duplication, **kwargs)\u001b[0m\n\u001b[0;32m    199\u001b[0m     inputs \u001b[39m=\u001b[39m []\n\u001b[0;32m    200\u001b[0m     \u001b[39mself\u001b[39m\u001b[39m.\u001b[39minterface_type \u001b[39m=\u001b[39m InterfaceTypes\u001b[39m.\u001b[39mOUTPUT_ONLY\n\u001b[1;32m--> 202\u001b[0m \u001b[39massert\u001b[39;00m \u001b[39misinstance\u001b[39m(inputs, (\u001b[39mstr\u001b[39m, \u001b[39mlist\u001b[39m, IOComponent))\n\u001b[0;32m    203\u001b[0m \u001b[39massert\u001b[39;00m \u001b[39misinstance\u001b[39m(outputs, (\u001b[39mstr\u001b[39m, \u001b[39mlist\u001b[39m, IOComponent))\n\u001b[0;32m    205\u001b[0m \u001b[39mif\u001b[39;00m \u001b[39mnot\u001b[39;00m \u001b[39misinstance\u001b[39m(inputs, \u001b[39mlist\u001b[39m):\n",
      "\u001b[1;31mAssertionError\u001b[0m: "
     ]
    }
   ],
   "source": [
    "import gradio as gr\n",
    "\n",
    "def nonesss(x):\n",
    "  return \"hello\"\n",
    "\n",
    "# 入力コンポーネントの作成\n",
    "input_text = gr.Textbox()\n",
    "\n",
    "# ボックス内に配置するコンポーネントをリストにまとめる\n",
    "input_box = gr.Box(children=input_text)\n",
    "\n",
    "# インタフェースの作成\n",
    "interface = gr.Interface(nonesss, inputs=input_box, outputs=\"text\")\n",
    "\n",
    "# インタフェースを起動\n",
    "interface.launch()"
   ]
  }
 ],
 "metadata": {
  "kernelspec": {
   "display_name": ".venv",
   "language": "python",
   "name": "python3"
  },
  "language_info": {
   "codemirror_mode": {
    "name": "ipython",
    "version": 3
   },
   "file_extension": ".py",
   "mimetype": "text/x-python",
   "name": "python",
   "nbconvert_exporter": "python",
   "pygments_lexer": "ipython3",
   "version": "3.10.9"
  },
  "orig_nbformat": 4
 },
 "nbformat": 4,
 "nbformat_minor": 2
}
