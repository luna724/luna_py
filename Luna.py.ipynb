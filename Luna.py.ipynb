{
 "cells": [
  {
   "cell_type": "markdown",
   "metadata": {},
   "source": [
    "# Lunapy Alls In!\n",
    "    # Feature List\n",
    "     - curseforge-autodownload (v1.0.1) \n",
    "        - CurseforgeのリストアップされたURLから特定のバージョンのファイルをダウンロード \n",
    "\n",
    "     - Dataset Collector V3 (v3.0.3)\n",
    "        - Sekai ViewerのStory Viewerから特定のユニットのmp3ファイルを自動取得\n",
    "        - 現在はLeo/need のみ対応\n",
    "    \n",
    "     - jpg to png Converter (v1.0.1)\n",
    "        - Pillowを使用して、jpgファイルをpngファイルに変換する\n",
    "\n",
    "     - Picture Collector (v1.2.1)\n",
    "        - Sekai Viewerからキャラのカードの画像を取得する\n",
    "        - ほぼすべてのキャラに対応しているが、特訓後のみの取得等が未完成\n",
    "\n",
    "     - Taskkiller for Minecraft (β2.1)\n",
    "        - Minecraftの軽量化用に、Taskkillを行う\n",
    "        - ベータなため、未実装\n",
    "\n",
    "     - Output Cleaner (β1.1)\n",
    "        - Lunapyのアウトプットをクリーンアップする。\n",
    "        - 容量開放や、Commit用\n",
    "\n",
    "| Feature Name | Latest Version | Type | Compability | Reason |\n",
    "|---|---|---|---|---|\n",
    "| CurseForge AutoDownload | v1.0.1 | Web Scraping | Windows | Using PyAutoGUI |\n",
    "| Dataset Collector | v3.0.3 | Web Scraping | None | |\n",
    "| jpg to png Converter | v1.0.1 | Converter | Windows | Using ffmpeg.exe |\n",
    "| Picture Collector | v1.2.1 | Web Scraping | None | |\n",
    "| Taskkiller for Minecraft | β2.1 | Unknown | Windows | Using taskkill(batch) |\n",
    "| Output Cleaner | β1.1 | Unknown | Windows | |\n"
   ]
  },
  {
   "cell_type": "code",
   "execution_count": 10,
   "metadata": {},
   "outputs": [
    {
     "name": "stdout",
     "output_type": "stream",
     "text": [
      "^C\n"
     ]
    }
   ],
   "source": [
    "# Curseforge Auto-downloadの実行\n",
    "!python main_script.py \"cf_autodl\""
   ]
  },
  {
   "cell_type": "code",
   "execution_count": null,
   "metadata": {},
   "outputs": [],
   "source": [
    "# Dataset Collectorの実行\n",
    "!python main_script.py \"ds_collector\""
   ]
  },
  {
   "cell_type": "code",
   "execution_count": null,
   "metadata": {},
   "outputs": [],
   "source": [
    "# jpg to png Converterの実行\n",
    "!python main_script.py \"jpg2png\""
   ]
  },
  {
   "cell_type": "code",
   "execution_count": null,
   "metadata": {},
   "outputs": [],
   "source": [
    "# Picture Collectorの実行\n",
    "!python main_script.py \"pic_collector\""
   ]
  },
  {
   "cell_type": "code",
   "execution_count": null,
   "metadata": {},
   "outputs": [],
   "source": [
    "# Music Collectorの実行\n",
    "!python main_script.py \"music_collector\""
   ]
  },
  {
   "cell_type": "code",
   "execution_count": null,
   "metadata": {},
   "outputs": [],
   "source": [
    "# Taskkill for Minecraftの実行 \n",
    "# 警告: このスクリプトは Windows10 21H2, 22H2 でのみ実行を確認しています\n",
    "!python main_script.py \"taskkill4mc\""
   ]
  }
 ],
 "metadata": {
  "kernelspec": {
   "display_name": "Python 3",
   "language": "python",
   "name": "python3"
  },
  "language_info": {
   "codemirror_mode": {
    "name": "ipython",
    "version": 3
   },
   "file_extension": ".py",
   "mimetype": "text/x-python",
   "name": "python",
   "nbconvert_exporter": "python",
   "pygments_lexer": "ipython3",
   "version": "3.10.9"
  },
  "orig_nbformat": 4
 },
 "nbformat": 4,
 "nbformat_minor": 2
}
