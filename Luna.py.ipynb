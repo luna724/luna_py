{
 "cells": [
  {
   "cell_type": "markdown",
   "metadata": {},
   "source": [
    "# Lunapy Alls In!\n",
    "    # Feature List\n",
    "     - curseforge-autodownload (β1) \n",
    "        - CurseforgeのリストアップされたURLから特定のバージョンのファイルをダウンロード\n",
    "        - 現在 2回目以降の処理が正常に行われない\n",
    "\n",
    "     - Dataset Collector V3 (v3.0.4)\n",
    "        - Sekai Viewerから特定のユニットの会話のmp3ファイルを自動取得\n",
    "        - 現在はLeo/need のみ対応\n",
    "    \n",
    "     - jpg to png Converter (v1.0.3)\n",
    "        - Pillowを使用して、jpg, jpeg, webpファイルをpngファイルに変換する\n",
    "        - webpファイルは一部破損するファイルもある\n",
    "      \n",
    "     - Luna's Global Script (v1.0.1 - R2)\n",
    "        - まとめたら便利なんじゃないかという思い付きで作られたモジュール\n",
    "\n",
    "     - Picture Collector (v1.2.3)\n",
    "        - Sekai Viewerからキャラのカードの画像を取得する\n",
    "        - 特訓後のみの取得等が未完成\n",
    "        - 現在 404 Not Foundの画像の削除を行うスクリプトを手動で実行しなければいけない\n",
    "      \n",
    "     - Music Collector (β1)\n",
    "        - Sekai Viewerから曲を取得する\n",
    "        - html構造的に厳しい気がしていて、未実装\n",
    "\n",
    "     - MP3 to wav Converter (Not Released)\n",
    "        - Dataset Collector V3に特化した形で内蔵している物を分離予定\n",
    "        - ffmpegがPATHに追加されている場合、Windows以外でも実行可能\n",
    "\n",
    "     - Taskkiller for Minecraft (β2.1)\n",
    "        - Minecraftの軽量化用に、Taskkillを行う\n",
    "        - ベータなため、未実装\n",
    "\n",
    "     - Output Cleaner (β1.1)\n",
    "        - Lunapyのアウトプットをクリーンアップする。\n",
    "        - 容量開放や、Commit用\n",
    "        - .gitignoreによって仕事を奪われているため、未実装\n",
    "\n",
    "| Feature Name | Latest Version | Type | Compability | Reason |\n",
    "|---|---|---|---|---|\n",
    "| CurseForge AutoDownload | β1 | Web Scraping | None | |\n",
    "| Dataset Collector | v3.0.4 | Web Scraping | None | |\n",
    "| jpg to png Converter | v1.0.3 | Converter | None | |\n",
    "| Luna's Global Script | v1.0.1-r2 | Python Module | None | |\n",
    "| Picture Collector | v1.2.3 | Web Scraping | None | |\n",
    "| Music Collector | β1 | Web Scraping | None | |\n",
    "| MP3 to wav Converter | No Release | Converter | (Windows) | Using ffmpeg.exe |\n",
    "| Taskkiller for Minecraft | β2.1 | Unknown | Windows | Using taskkill(batch) |\n",
    "| Output Cleaner | β1.1 | Unknown | Windows | |\n"
   ]
  },
  {
   "cell_type": "code",
   "execution_count": 10,
   "metadata": {},
   "outputs": [
    {
     "name": "stdout",
     "output_type": "stream",
     "text": [
      "^C\n"
     ]
    }
   ],
   "source": [
    "# Curseforge Auto-downloadの実行\n",
    "!python main_script.py \"cf_autodl\""
   ]
  },
  {
   "cell_type": "code",
   "execution_count": 6,
   "metadata": {},
   "outputs": [
    {
     "name": "stdout",
     "output_type": "stream",
     "text": [
      "^C\n"
     ]
    }
   ],
   "source": [
    "# Dataset Collectorの実行\n",
    "!python main_script.py \"ds_collector\""
   ]
  },
  {
   "cell_type": "code",
   "execution_count": null,
   "metadata": {},
   "outputs": [],
   "source": [
    "# jpg to png Converterの実行\n",
    "!python main_script.py \"jpg2png\""
   ]
  },
  {
   "cell_type": "code",
   "execution_count": 8,
   "metadata": {},
   "outputs": [
    {
     "name": "stdout",
     "output_type": "stream",
     "text": [
      "^C\n"
     ]
    }
   ],
   "source": [
    "# Picture Collectorの実行\n",
    "!python main_script.py \"pic_collector\""
   ]
  },
  {
   "cell_type": "code",
   "execution_count": null,
   "metadata": {},
   "outputs": [],
   "source": [
    "# Music Collectorの実行\n",
    "!python main_script.py \"music_collector\""
   ]
  },
  {
   "cell_type": "code",
   "execution_count": null,
   "metadata": {},
   "outputs": [],
   "source": [
    "# MP3 to Wav Converterの実行\n",
    "!python main_script.py \"mp32wav_c\""
   ]
  },
  {
   "cell_type": "code",
   "execution_count": null,
   "metadata": {},
   "outputs": [],
   "source": [
    "# Taskkill for Minecraftの実行 \n",
    "# 警告: このスクリプトは Windows10 21H2, 22H2 でのみ実行を確認しています\n",
    "!python main_script.py \"taskkill4mc\""
   ]
  }
 ],
 "metadata": {
  "kernelspec": {
   "display_name": "Python 3",
   "language": "python",
   "name": "python3"
  },
  "language_info": {
   "codemirror_mode": {
    "name": "ipython",
    "version": 3
   },
   "file_extension": ".py",
   "mimetype": "text/x-python",
   "name": "python",
   "nbconvert_exporter": "python",
   "pygments_lexer": "ipython3",
   "version": "3.10.7"
  },
  "orig_nbformat": 4
 },
 "nbformat": 4,
 "nbformat_minor": 2
}
