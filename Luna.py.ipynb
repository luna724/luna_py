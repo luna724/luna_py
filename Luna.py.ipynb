{
 "cells": [
  {
   "cell_type": "markdown",
   "metadata": {},
   "source": [
    "# Lunapy Alls In!\n",
    "    # Feature List\n",
    "     - curseforge-autodownload (v1.0.0) \n",
    "        - CurseforgeのリストアップされたURLから特定のバージョンのファイルをダウンロード \n",
    "\n",
    "     - Dataset Collector V3 (v3.0.2)\n",
    "        - Sekai ViewerのStory Viewerから特定のユニットのmp3ファイルを自動取得\n",
    "        - 現在はLeo/need のみ対応\n",
    "    \n",
    "     - jpg to png Converter (v1.0.0)\n",
    "        - Pillowを使用して、jpgファイルをpngファイルに変換する\n",
    "\n",
    "     - Picture Collector (v1.2.0)\n",
    "        - Sekai Viewerからキャラのカードの画像を取得する\n",
    "        - ほぼすべてのキャラに対応しているが、特訓後のみの取得等が未完成\n",
    "\n",
    "     - Taskkiller for Minecraft (β2)\n",
    "        - Minecraftの軽量化用に、Taskkillを行う\n",
    "        - ベータなため、未実装\n",
    "\n",
    "     - Output Cleaner (β1)\n",
    "        - Lunapyのアウトプットをクリーンアップする。\n",
    "        - 容量開放や、Commit用\n",
    "\n",
    "| Feature Name | Latest Version | Type | Compability |\n",
    "|---|---|---|---|\n",
    "| !python Trash.py | v1.0.0 | Web Scraping | Windows |\n",
    "| Dataset Collector | v3.0.2 | Web Scraping | None |\n",
    "| jpg to png Converterr | v1.0.0 | Converter | Windows |\n",
    "| Picture Collector | v1.2.0 | Web Scraping | None |\n",
    "| Taskkiller for Minecraft | β2 | Unknown | Windows |\n",
    "| Output Cleaner | β1 | Unknown | Windows |\n"
   ]
  }
 ],
 "metadata": {
  "kernelspec": {
   "display_name": "Python 3",
   "language": "python",
   "name": "python3"
  },
  "language_info": {
   "codemirror_mode": {
    "name": "ipython",
    "version": 3
   },
   "file_extension": ".py",
   "mimetype": "text/x-python",
   "name": "python",
   "nbconvert_exporter": "python",
   "pygments_lexer": "ipython3",
   "version": "3.10.9"
  },
  "orig_nbformat": 4
 },
 "nbformat": 4,
 "nbformat_minor": 2
}
